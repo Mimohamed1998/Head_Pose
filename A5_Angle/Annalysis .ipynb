{
 "cells": [
  {
   "cell_type": "markdown",
   "id": "2afe56e7",
   "metadata": {},
   "source": [
    "# Annalysis "
   ]
  },
  {
   "cell_type": "markdown",
   "id": "36192719",
   "metadata": {},
   "source": [
    "# Import dependencies "
   ]
  },
  {
   "cell_type": "code",
   "execution_count": 30,
   "id": "84c01d5c",
   "metadata": {},
   "outputs": [],
   "source": [
    "import pandas as pd\n",
    "from matplotlib import pyplot as plt"
   ]
  },
  {
   "cell_type": "markdown",
   "id": "9a3a7da7",
   "metadata": {},
   "source": [
    "## Annalysis "
   ]
  },
  {
   "cell_type": "code",
   "execution_count": 31,
   "id": "192fc2df",
   "metadata": {},
   "outputs": [],
   "source": [
    "# Obtainig data from children CSV file\n",
    "sample_data_t1 = pd.read_csv('coords_yaw.csv')"
   ]
  },
  {
   "cell_type": "code",
   "execution_count": 32,
   "id": "431c082c",
   "metadata": {},
   "outputs": [
    {
     "data": {
      "text/html": [
       "<div>\n",
       "<style scoped>\n",
       "    .dataframe tbody tr th:only-of-type {\n",
       "        vertical-align: middle;\n",
       "    }\n",
       "\n",
       "    .dataframe tbody tr th {\n",
       "        vertical-align: top;\n",
       "    }\n",
       "\n",
       "    .dataframe thead th {\n",
       "        text-align: right;\n",
       "    }\n",
       "</style>\n",
       "<table border=\"1\" class=\"dataframe\">\n",
       "  <thead>\n",
       "    <tr style=\"text-align: right;\">\n",
       "      <th></th>\n",
       "      <th>Frame</th>\n",
       "      <th>t1_pitch</th>\n",
       "      <th>t1_yaw</th>\n",
       "      <th>t1_roll</th>\n",
       "    </tr>\n",
       "  </thead>\n",
       "  <tbody>\n",
       "    <tr>\n",
       "      <th>0</th>\n",
       "      <td>1</td>\n",
       "      <td>-2.880598</td>\n",
       "      <td>11.458302</td>\n",
       "      <td>2.612707</td>\n",
       "    </tr>\n",
       "    <tr>\n",
       "      <th>1</th>\n",
       "      <td>2</td>\n",
       "      <td>-6.223132</td>\n",
       "      <td>11.072834</td>\n",
       "      <td>2.519756</td>\n",
       "    </tr>\n",
       "    <tr>\n",
       "      <th>2</th>\n",
       "      <td>3</td>\n",
       "      <td>-6.364385</td>\n",
       "      <td>11.263475</td>\n",
       "      <td>2.535877</td>\n",
       "    </tr>\n",
       "    <tr>\n",
       "      <th>3</th>\n",
       "      <td>4</td>\n",
       "      <td>-6.555845</td>\n",
       "      <td>10.171640</td>\n",
       "      <td>2.449347</td>\n",
       "    </tr>\n",
       "    <tr>\n",
       "      <th>4</th>\n",
       "      <td>5</td>\n",
       "      <td>-6.258083</td>\n",
       "      <td>10.592772</td>\n",
       "      <td>2.467663</td>\n",
       "    </tr>\n",
       "    <tr>\n",
       "      <th>...</th>\n",
       "      <td>...</td>\n",
       "      <td>...</td>\n",
       "      <td>...</td>\n",
       "      <td>...</td>\n",
       "    </tr>\n",
       "    <tr>\n",
       "      <th>281</th>\n",
       "      <td>282</td>\n",
       "      <td>-7.578289</td>\n",
       "      <td>11.762835</td>\n",
       "      <td>2.538974</td>\n",
       "    </tr>\n",
       "    <tr>\n",
       "      <th>282</th>\n",
       "      <td>283</td>\n",
       "      <td>-7.231529</td>\n",
       "      <td>12.057217</td>\n",
       "      <td>2.534375</td>\n",
       "    </tr>\n",
       "    <tr>\n",
       "      <th>283</th>\n",
       "      <td>284</td>\n",
       "      <td>-7.552544</td>\n",
       "      <td>12.152518</td>\n",
       "      <td>2.565266</td>\n",
       "    </tr>\n",
       "    <tr>\n",
       "      <th>284</th>\n",
       "      <td>285</td>\n",
       "      <td>-9.013987</td>\n",
       "      <td>11.823394</td>\n",
       "      <td>2.601949</td>\n",
       "    </tr>\n",
       "    <tr>\n",
       "      <th>285</th>\n",
       "      <td>286</td>\n",
       "      <td>-8.010210</td>\n",
       "      <td>11.290975</td>\n",
       "      <td>2.534831</td>\n",
       "    </tr>\n",
       "  </tbody>\n",
       "</table>\n",
       "<p>286 rows × 4 columns</p>\n",
       "</div>"
      ],
      "text/plain": [
       "     Frame  t1_pitch     t1_yaw   t1_roll\n",
       "0        1 -2.880598  11.458302  2.612707\n",
       "1        2 -6.223132  11.072834  2.519756\n",
       "2        3 -6.364385  11.263475  2.535877\n",
       "3        4 -6.555845  10.171640  2.449347\n",
       "4        5 -6.258083  10.592772  2.467663\n",
       "..     ...       ...        ...       ...\n",
       "281    282 -7.578289  11.762835  2.538974\n",
       "282    283 -7.231529  12.057217  2.534375\n",
       "283    284 -7.552544  12.152518  2.565266\n",
       "284    285 -9.013987  11.823394  2.601949\n",
       "285    286 -8.010210  11.290975  2.534831\n",
       "\n",
       "[286 rows x 4 columns]"
      ]
     },
     "execution_count": 32,
     "metadata": {},
     "output_type": "execute_result"
    }
   ],
   "source": [
    "sample_data_t1"
   ]
  },
  {
   "cell_type": "markdown",
   "id": "22cd77b1",
   "metadata": {},
   "source": [
    "## Yaw Pitch roll plots"
   ]
  },
  {
   "cell_type": "code",
   "execution_count": 33,
   "id": "dbbc5008",
   "metadata": {},
   "outputs": [
    {
     "data": {
      "image/png": "[encoded data removed]",
      "text/plain": [
       "<Figure size 432x288 with 1 Axes>"
      ]
     },
     "metadata": {
      "needs_background": "light"
     },
     "output_type": "display_data"
    }
   ],
   "source": [
    "plt.plot(sample_data_t1.t1_yaw)\n",
    "plt.plot(sample_data_t1.t1_pitch)\n",
    "plt.plot(sample_data_t1.t1_roll)\n",
    "plt.legend(['yaw','pitch','roll'])\n",
    "\n",
    "\n",
    "plt.title(\"yaw, picth and roll\")\n",
    "plt.show()"
   ]
  },
  {
   "cell_type": "markdown",
   "id": "5b95917e",
   "metadata": {},
   "source": []
  }
 ],
 "metadata": {
  "kernelspec": {
   "display_name": "mp_lab",
   "language": "python",
   "name": "mp_lab"
  },
  "language_info": {
   "codemirror_mode": {
    "name": "ipython",
    "version": 3
   },
   "file_extension": ".py",
   "mimetype": "text/x-python",
   "name": "python",
   "nbconvert_exporter": "python",
   "pygments_lexer": "ipython3",
   "version": "3.7.11"
  }
 },
 "nbformat": 4,
 "nbformat_minor": 5
}
